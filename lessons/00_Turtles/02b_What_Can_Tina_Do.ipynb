{
 "cells": [
  {
   "cell_type": "markdown",
   "metadata": {},
   "source": [
    "# What Can Tina Do?\n",
    "\n",
    "The first program where you met Tina was  pretty complicatated! But it was made of a lot of simple parts. The next program is simpler, and has commands that you can figure out for yourself. In the next program, `02c_Squares_and_Circles`, Tina will draw a square and a circle. You task will be to read the program, figure out what it does, and change it. \n",
    "\n",
    "Here is what some of the program will look like: \n",
    "\n",
    "```python\n",
    "tina = turtle.Turtle()                  # Create a turtle named tina\n",
    "\n",
    "tina.pencolor('blue')                   # Set the pen color to blue\n",
    "tina.forward(200)                       # Move tina forward by the forward distance\n",
    "tina.right(90)                          # Turn tina left by the left turn\n",
    "\n",
    "```\n",
    "\n",
    "The program will have a lot of lines like this. Each line is a command for Tina to do something. The commands are in English, and they are pretty easy to understand. What you will do is: \n",
    "\n",
    "Run the program, then read through the program and figure out what each command does. The part of the program at the start of the line: \n",
    "\n",
    "```python\n",
    "tina.forward(200) \n",
    "```\n",
    "\n",
    "is the command. What could this line do? Maybe ... move Tina forward by 200 steps?\n",
    "\n",
    "After that will be a comment, which looks like this: \n",
    "\n",
    "```python\n",
    "# Move tina forward by the forward distance\n",
    "```\n",
    "\n",
    "Comments are only for people to read, and they start with a `#`. They are there to help you understand the program.\n",
    "\n",
    "## Assignment\n",
    "\n",
    "1. Run the program `02c_Squares_and_Circles` and see what it does.\n",
    "2. Read through the program and figure out what each command does.\n",
    "3. Change the program so that Tina draws a square and a circle of different sizes and colors.\n",
    "4. Run the program again and see what it does now.\n",
    "\n"
   ]
  }
 ],
 "metadata": {
  "kernelspec": {
   "display_name": "Python 3",
   "language": "python",
   "name": "python3"
  },
  "language_info": {
   "name": "python",
   "version": "3.11.11"
  }
 },
 "nbformat": 4,
 "nbformat_minor": 2
}
