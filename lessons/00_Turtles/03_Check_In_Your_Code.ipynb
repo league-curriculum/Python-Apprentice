{
 "cells": [
  {
   "cell_type": "markdown",
   "metadata": {},
   "source": [
    "# Check In Your Code\n",
    "\n",
    "Now that you have written a few programs, you have changes to source code in\n",
    "your Codespace. If you want to save those changes for later – and you almost\n",
    "certainly do – you should \"check it in\" to git. If you don't,  eventually your\n",
    "Github codespace will be stopped automatically, then deleted after a few weeks,\n",
    "and you will lose your changes. So check your code in!\n",
    "\n",
    "## Make a Change\n",
    "\n",
    "Let's make a change to `02_Meet_Tina` so we have something to checking. You can\n",
    "change anything you want! Maybe make the circle a diffferent size \n",
    "( change `tina.circle(100, steps=50)` ) or change what tina says ( change\n",
    "`tina.write(\"Why, hello there!\")` ) or anything else, then save your file. \n",
    "\n",
    "## Commit and sync your code\n",
    "\n",
    "Once you have made the change, save your file. Then, on the left side of the\n",
    "Codespace window, look for this icon. The number may be different for you ( it\n",
    "will probably be 1). \n",
    "\n",
    "<center><img src=\"https://images.jointheleague.org/vscode/git_changes.png\" width=\"100px\"></center>\n",
    "\n",
    "This is the Source Control icon; click on it to get access to the Source Control tool for\n",
    "checking in your code. Now the Source Control pane should look like this: \n",
    "\n",
    "<center><img src=\"https://images.jointheleague.org/vscode/sc_changes.png\" width=\"400px\"></center>\n",
    "\n",
    "To check in your code enter a message in the Message box to describe what you\n",
    "changed, then click on the ✓ Commit button. That will check in your changes,\n",
    "but they aren't really stored permanaently yet.\n",
    "\n",
    "After you commit, the blue button will change to:\n",
    "\n",
    "<center><img src=\"https://images.jointheleague.org/vscode/sc_sync.png\" width=\"400px\"></center>\n",
    "\n",
    "Click the Sync button, and *now* your changes are safely in your Github account's repository. \n"
   ]
  },
  {
   "cell_type": "markdown",
   "metadata": {},
   "source": [
    "One problem you might have is if you click the ✓ Commit button and it doesn't\n",
    "seem to do anything, but the edit pane ( where you edit files ) changes to look\n",
    "like this:\n",
    "\n",
    "<center><img src=\"https://images.jointheleague.org/vscode/sc_edit_message.png\" width=\"400px\"></center>\n",
    "\n",
    "This happens if you click the ✓ Commit button without entering a commit message first. There are two ways to proceed:\n",
    "\n",
    "1. Close the edit message file by clicking on the x in the files tab. then go\n",
    "   back to the Source Control window and enter a message before clicking on the\n",
    "   ✓ Commit button. \n",
    "2. Enter a commit message at the top of the edit message file, save the file,\n",
    "   then close it, and the commit process will finish. \n"
   ]
  },
  {
   "cell_type": "markdown",
   "metadata": {},
   "source": [
    "Remember to check in your code frequently! The best thing to do is check in\n",
    "after every lesson, but you should be especially diligent about checking code in\n",
    "before you finish your lessons for the day. \n",
    "\n",
    "If you want to force your Codespace to stop, click on the blue area in the lower\n",
    "left corner. That will pop up a menu ( at the top of the screen ) with options\n",
    "to stop the codespace. \n"
   ]
  },
  {
   "cell_type": "markdown",
   "metadata": {},
   "source": [
    "## Continue your Lessons"
   ]
  },
  {
   "cell_type": "markdown",
   "metadata": {},
   "source": [
    "When you want to resume your lessons, you will probably find that your Codespace has been automatically stopped. You should have check in your code, but if you didn't, your changes will still be in the code space. If you left the browser window open, it will look like this:\n",
    "\n",
    "<center><img src=\"https://images.jointheleague.org/vscode/sc_edit_message.png\" width=\"400px\"></center>\n",
    "\n",
    "If you see that, just click on the green \"Restart Codespace\" to pick up where you left off. \n",
    "\n",
    "If you don't still have that window open, it is still easy to restart your code space. \n",
    "\n",
    "First, go your Github account and look for the repository called \"Python-Apprentice.\" \n",
    "\n",
    "Next, click on the <img style=\"vertical-align:middle\"\n",
    "src=\"https://images.jointheleague.org/github/code_button.png\" height=\"25px\" >\n",
    "button, and in the popup window, select the \"Codespaces\" tab. You shout *not*\n",
    "see the green \"Create Codespace\" button, but rather, it should look something\n",
    "like this: \n",
    "\n",
    "<center><img src=\"https://images.jointheleague.org/github/restart_codespace.png\" width=\"400px\"></center>\n",
    "\n",
    "The codespaces have crazy names, like this one, \"expert brocolli\".\n",
    "\n",
    "If your codespace isn't actually stopped, it is still running, you will see \"Active\" along with a green dot: \n",
    "\n",
    "<center><img src=\"https://images.jointheleague.org/github/active_codespace.png\" width=\"400px\"></center>\n",
    "\n",
    " Either way, you can click on the crazy name link to open the codespace and continue your lessons. \n",
    "\n"
   ]
  },
  {
   "cell_type": "markdown",
   "metadata": {},
   "source": []
  }
 ],
 "metadata": {
  "kernelspec": {
   "display_name": "Python 3 (ipykernel)",
   "language": "python",
   "name": "python3"
  },
  "language_info": {
   "codemirror_mode": {
    "name": "ipython",
    "version": 3
   },
   "file_extension": ".py",
   "mimetype": "text/x-python",
   "name": "python",
   "nbconvert_exporter": "python",
   "pygments_lexer": "ipython3",
   "version": "3.11.6"
  }
 },
 "nbformat": 4,
 "nbformat_minor": 4
}
