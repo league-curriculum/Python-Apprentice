{
 "cells": [
  {
   "cell_type": "markdown",
   "metadata": {},
   "source": [
    "# Getting Started with Python\n",
    "\n",
    "This is the first formal lesson of your first Python class with the Leage of\n",
    "Amazing Programmers. To follow these lessons, you should be reading this file in\n",
    "Visual Studio Code if you are on your own computer, or if you are using a\n",
    "website, it should be Github Codespaces."
   ]
  },
  {
   "cell_type": "markdown",
   "metadata": {},
   "source": [
    "\n",
    "## Open a Virtual Screen on the Web\n",
    "\n",
    "If you started your editor as a Codespace on Github, that is, you clicked\n",
    "on a button like <img style=\"vertical-align:middle\" src=\"https://images.jointheleague.org/vscode/create_codespace.png\" height=\"25px\" > \n",
    "to start your editor, then you need to follow these steps to open a virtual screen. \n",
    "Your Codespace is running your code in a data center far away, and it doesn't have a screen,\n",
    "so if you want to see your program output, you have to create a virtual screen. \n",
    "\n",
    "In the bottom pane of the VSCode window, click on the \"PORTS\" tab. ( If you don't see a \n",
    "\"PORTS\" tab, you probably can skip this step. )\n",
    "\n",
    "<center><img src=\"https://images.jointheleague.org/module-navigation/ports_pane.png\" width=\"600px\"></center>\n",
    "\n",
    "Hover over the \"Forwarded Address\" for port 6080. You will see a small icon\n",
    "that looks like  <img style=\"vertical-align:middle\" src=\"https://images.jointheleague.org/vscode/browser_pane.png\" height=\"25px\" >. Click on it. This will\n",
    "open a new browser window with a \"noVNC\" logo. \n",
    "\n",
    "You might need to drag the browser window to the right side of the screen. Your\n",
    "screen should look something like:\n",
    "\n",
    "<center><img src=\"https://images.jointheleague.org/module-navigation/browser_window.png\" width=\"600px\"></center>\n",
    "\n",
    "Click on \"Connect\". If it asks for a password,  enter the passwod: \"code4life\"\n",
    "\n",
    "Troubleshooting: if the \"Simple Browser\" pane takes up the whole editor area,\n",
    "try grabing the  \"Simple Browser\" tab and drag it to the right side of the\n",
    "window; there should be a pale-blue shadow that shows where the pane will go. If\n",
    "it looks like the browser window is not loading, try clicking the circular\n",
    "reload icon at the top of the window. \n",
    "\n",
    "Now you have a virtual screen running. When your program writes to the screen, it will show up in this window. \n",
    "\n"
   ]
  },
  {
   "cell_type": "markdown",
   "metadata": {},
   "source": [
    "\n",
    "# Running Programs\n",
    "\n",
    "In these lessons there are three kinds of files for lessons, Markdown\n",
    "files, Python files and  Notebook files. \n",
    "\n",
    "* Markdown files end with `.md`, The most common markdown file you will see is\n",
    "  ``README.md``, a documentation file you will see in a lot of directories to \n",
    "  describe the contents. Sometimes there will be Markdown files for lessons. \n",
    "* Python files end with `.py`. You can run them as normal programs, by pressing \n",
    "  the ▶️ play bytton. \n",
    "* Notebook files end with `.ipynb`. These files are very special, because they are both \n",
    "  documents and have programs that you can run. \n",
    "\n",
    "## Run Notebook Code Cells\n",
    "\n",
    "Notice that this file, ``01_Get_Started.ipynb`` is a Notebook file. If you are reading\n",
    "the file in Visual Studio Code, you will see \"⏩ Run All\" at the top of the screen, \n",
    "and some paragraphs that have code will have a \"▶️\" on the left side. \n",
    "\n",
    "Below is a code cell you can try to run. But, if you press the \"▶️\" it may not do anything. If so,\n",
    "look at the top of the Visual Studio window for a box that looks like: \n",
    "\n",
    "<center><img src=\"https://images.jointheleague.org/vscode/select_python.png\" width=\"600px\"></center>\n",
    "\n",
    "If you see this, you will want to select an entry for a Python interpreter. It might look like \" .venv (Python 3.11)\"\n",
    "or maybe \"★ Python 3.12\" or something like that. Select an interpreter and then re-run the code. "
   ]
  },
  {
   "cell_type": "code",
   "execution_count": null,
   "metadata": {},
   "outputs": [],
   "source": [
    "import datetime\n",
    "\n",
    "date = datetime.date.today().strftime(\"%B %d, %Y\")\n",
    "s = F\"Hello 👋 World 🌎 ! Today is {date}\"\n",
    "\n",
    "\n",
    "print(s)"
   ]
  },
  {
   "cell_type": "markdown",
   "metadata": {},
   "source": [
    "The block of code is called a \"Cell\", which is what we'll call it in the future. In addition \n",
    "to running it with the ▶️ button, you can also press ⇧ Enter.\n",
    "\n",
    "Here are some other tips for cells: \n",
    "\n",
    "* Click in the cell to edit it. When the cell is editable, you will see a blue bar on the side and a blue outline around the cell. \n",
    "* Some operations on a cell, like moving it up or down, require it to be in \"Command Mode\". Hit the Esc key to enter command mode. The blue side \n",
    "  bar will stay, but the blue outline will disappear. \n",
    "* When a cell is active, there is a small menu in the upper right with more options. \n",
    "  \n",
    "\n",
    "Now, you try it: \n",
    "\n",
    "1. Copy the Hello World code in the cell above to the cell below. \n",
    "2. Change the code to also print out your name\n",
    "3. Run the code. "
   ]
  },
  {
   "cell_type": "code",
   "execution_count": null,
   "metadata": {},
   "outputs": [],
   "source": [
    "# Write your Hello World code below\n",
    "\n"
   ]
  },
  {
   "cell_type": "markdown",
   "metadata": {},
   "source": [
    "## Run `.py` programs\n",
    "\n",
    "The files that end in `.py` are normal Python program, and the type of program you will \n",
    "run most often.  Now let's run a Python program,  which is in the file named ``02_Meet_Tina.py``. \n",
    "\n",
    "There are a few ways to do this:\n",
    "\n",
    "### Use the  ▶️  button\n",
    "\n",
    "1. Click on the file name to open the file\n",
    "2. Look in the upper right for these icons: <img style=\"vertical-align:middle\" src=\"https://images.jointheleague.org/vscode/run_buttons.png\" height=\"25px\" > \n",
    "    click on the ▶️ run button to run the program.  \n",
    "3. Click on the window to close it. \n",
    "\n",
    "### Hit the F5 Key\n",
    "\n",
    "You can also run the program by hitting the F5 key. On a Mac, you will have to\n",
    "hold down the fn key and then hit F5. THis is a bit different than using the run\n",
    "button, because F5 will open the debugger. \n",
    "\n",
    "The first time you hit F5, look at the top of the IDE window. YOu shoudl see a\n",
    "selection window that reads \"Select Debugger\". Select the first option, \"Python\n",
    "Debugger\". Then, on the next window, select \"Python File. Debug currently active\n",
    "Python file\". After that, you will see the debug bar: \n",
    "\n",
    "<center><img src=\"https://images.jointheleague.org/vscode/debug_bar.png\" width=\"300px\"></center>\n",
    "\n",
    "We will learn all of the features for the debugger later, but for now you just\n",
    "need to know that you press the red square to exit your program, and the gree\n",
    "circle to re-run it. \n",
    "\n",
    "\n",
    "<div class=\"alert alert-warning\">\n",
    "\n",
    "You can't run a program again until you end the currently running program. If\n",
    "you see a turtle window open, then you should either click on the window to\n",
    "close it ( if the program ends with `turtle.exitonclick()` or click on the X in\n",
    "the upper right of the turtle window. )\n",
    "\n",
    "Or, if you are using the debugger, click the red square in the debugger bar. \n",
    "\n",
    "</div>"
   ]
  },
  {
   "cell_type": "code",
   "execution_count": null,
   "metadata": {},
   "outputs": [],
   "source": []
  },
  {
   "cell_type": "code",
   "execution_count": null,
   "metadata": {},
   "outputs": [],
   "source": []
  }
 ],
 "metadata": {
  "kernelspec": {
   "display_name": ".venv",
   "language": "python",
   "name": "python3"
  },
  "language_info": {
   "codemirror_mode": {
    "name": "ipython",
    "version": 3
   },
   "file_extension": ".py",
   "mimetype": "text/x-python",
   "name": "python",
   "nbconvert_exporter": "python",
   "pygments_lexer": "ipython3",
   "version": "3.12.0"
  }
 },
 "nbformat": 4,
 "nbformat_minor": 2
}
