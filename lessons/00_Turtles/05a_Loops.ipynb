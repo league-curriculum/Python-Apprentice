{
 "cells": [
  {
   "cell_type": "markdown",
   "metadata": {},
   "source": [
    "# Loops and Variables\n",
    "\n",
    "In our first Tina the Turtle program, we had Tina draw a square, but it was \n",
    "very tedious, and involved a lot of repetition: \n",
    "\n",
    "```python \n",
    "import turtle                           # Tell Python we want to work with the turtle\n",
    "turtle.setup (width=600, height=600, startx=0, starty=0)    # Set the size of the window\n",
    "\n",
    "tina = turtle.Turtle()                  # Create a turtle named tina\n",
    "\n",
    "tina.shape('turtle')                    # Set the shape of the turtle to a turtle\n",
    "tina.speed(2)                           # Make the turtle move as fast, but not too fast. \n",
    "\n",
    "tina.forward(150)                       # Move tina forward by the forward distance\n",
    "tina.left(90)                           # Turn tina left by the left turn\n",
    "\n",
    "tina.forward(150)                       # Continuie the last two steps three more times\n",
    "tina.left(90)                           # to draw a square\n",
    "\n",
    "tina.forward(150)\n",
    "tina.left(90)\n",
    "\n",
    "tina.forward(150)\n",
    "tina.left(90)\n",
    "```"
   ]
  },
  {
   "cell_type": "markdown",
   "metadata": {
    "vscode": {
     "languageId": "plaintext"
    }
   },
   "source": [
    "The code \n",
    "\n",
    "```python \n",
    "tina.forward(150)\n",
    "tina.left(90)\n",
    "\n",
    "```\n",
    "\n",
    "gets repeated 4 times. That doesn't seem right!\n",
    "\n",
    "We can improve this code with a loop. Here is an example of a loop:\n",
    "\n",
    "( Remember that you can run it; click the  \"▶️\" on the left. \n",
    " ) "
   ]
  },
  {
   "cell_type": "code",
   "execution_count": null,
   "metadata": {},
   "outputs": [],
   "source": [
    "# For loop; try ganing the number of iterations to 6\n",
    "for i in range(4):\n",
    "    print('Loop Iteration', i)"
   ]
  },
  {
   "cell_type": "markdown",
   "metadata": {},
   "source": [
    "Notice that the number of iterations is the number inside of the parenthesies in\n",
    "`range()`. Also notice that the `print` statement is indented below the `for` loop\n",
    "line. Indenting is how you tell python what lines of code should be repeated. \n",
    "\n",
    "The `i` in the line `for i in range(4)` is a variable; it will hold the number of the \n",
    "iteration, starting at 0. For most of our loops in this module we won't use the \n",
    "variable, but we will study it more in  a later module. \n",
    "\n",
    "\n",
    "Now try updating the next program ``05_Loop_with_Turtle.py`` with a loop. "
   ]
  },
  {
   "cell_type": "code",
   "execution_count": null,
   "metadata": {},
   "outputs": [],
   "source": []
  }
 ],
 "metadata": {
  "kernelspec": {
   "display_name": ".venv",
   "language": "python",
   "name": "python3"
  },
  "language_info": {
   "codemirror_mode": {
    "name": "ipython",
    "version": 3
   },
   "file_extension": ".py",
   "mimetype": "text/x-python",
   "name": "python",
   "nbconvert_exporter": "python",
   "pygments_lexer": "ipython3",
   "version": "3.11.9"
  }
 },
 "nbformat": 4,
 "nbformat_minor": 2
}
