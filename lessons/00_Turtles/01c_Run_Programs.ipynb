{
 "cells": [
  {
   "cell_type": "markdown",
   "metadata": {},
   "source": [
    "\n",
    "# Running Programs\n",
    "\n",
    "We will be running Python program in two different ways, in Python files, and in\n",
    "code Notebooks. \n",
    "\n",
    "* Notebook files end with `.ipynb`. These files are very special, because they\n",
    "  are both documents you can read and have programs that you can run. \n",
    "* Python files end with `.py`. You can run them as normal programs, by pressing \n",
    "  the ▶️ play bytton. \n",
    "\n",
    "## Run Notebook Code Cells\n",
    "\n",
    "Notice that this file, ``01c-Run_Programs.ipynb`` is a Notebook file. If you are\n",
    "reading the file in Visual Studio Code, you will see \"⏩ Run All\" at the top of\n",
    "the screen, and some paragraphs that have code will have a \"▶️\" on the left\n",
    "side. \n",
    "\n",
    "Below is a code cell you can try to run. If you hover your pointer over the\n",
    "cell, you will see a \"▶️\" button. Click it to run the code.\n",
    "\n"
   ]
  },
  {
   "cell_type": "code",
   "execution_count": 3,
   "metadata": {},
   "outputs": [
    {
     "name": "stdout",
     "output_type": "stream",
     "text": [
      "Hello 👋 World 🌎 ! Today is 2025-03-09\n"
     ]
    }
   ],
   "source": [
    "import datetime\n",
    "\n",
    "date = datetime.date.today() # Get the Date\n",
    "\n",
    "s = F\"Hello 👋 World 🌎 ! Today is\" # Make a string with a message and the date\n",
    "\n",
    "print(s, date) # Print the string. "
   ]
  },
  {
   "cell_type": "markdown",
   "metadata": {},
   "source": [
    "\n",
    "\n",
    "Here is what that code cell looks like with the run button. Try running it!\n",
    "\n",
    "<center><img src=\"https://images.jointheleague.org/vscode/run_cell.png\" width=\"600px\"></center>\n",
    "\n",
    "The first time you press the \"▶️\" it may not do anything. Well, it did do\n",
    " something, but you might not have seen it. After you click the button, look at\n",
    " the top of the Visual Studio window for a box that looks like: \n",
    "\n",
    "<center><img src=\"https://images.jointheleague.org/vscode/select_python.png\" width=\"600px\"></center>\n",
    "\n",
    "If you see this, you will want to select an entry for a Python interpreter. It\n",
    "might look like \" .venv (Python 3.11)\" or maybe \"★ Python 3.12\" or something\n",
    "like that. Pick the first one in the list, or the one with the \"★ \".  Select an interpreter and then re-run the code. \n",
    "\n",
    "\n",
    "<center><img src=\"https://images.jointheleague.org/vscode/select_venv.png\" width=\"600px\"></center>"
   ]
  },
  {
   "cell_type": "markdown",
   "metadata": {},
   "source": [
    "You will have to select an interpreter every time you open a new notebook."
   ]
  },
  {
   "cell_type": "markdown",
   "metadata": {},
   "source": [
    "The block of code is called a \"Cell\", which is what we'll call it in the future.\n",
    "In addition to running it with the ▶️ button, you can also press ⇧ (shift key) +\n",
    "Enter to run it.\n",
    "\n",
    "Here are some other tips for cells: \n",
    "\n",
    "* Click in the cell to edit it. When the cell is editable, you will see a blue\n",
    "  bar on the side and a blue outline around the cell. \n",
    "* Some operations on a cell, like moving it up or down, require it to be in\n",
    "  \"Command Mode\". Hit the Esc key to enter command mode. The blue side bar will\n",
    "  stay, but the blue outline will disappear. \n",
    "* When a cell is active, there is a small menu in the upper right with more\n",
    "  options. \n",
    "  \n",
    "## Assignment\n",
    "\n",
    "Now, you try it: \n",
    "\n",
    "1. Copy the Hello World code in the cell above to the cell below. \n",
    "2. Change the code to also print out your name\n",
    "3. Run the code. "
   ]
  },
  {
   "cell_type": "code",
   "execution_count": 2,
   "metadata": {},
   "outputs": [],
   "source": [
    "# Write your Hello World code below\n",
    "\n"
   ]
  },
  {
   "cell_type": "markdown",
   "metadata": {},
   "source": [
    "## Run `.py` programs\n",
    "\n",
    "The files that end in `.py` are normal Python programs, and the type of program you will \n",
    "run most often.  Now let's run a Python program,  which is in the file named ``02_Meet_Tina.py``. \n",
    "\n",
    "There are a few ways to do this:\n",
    "\n",
    "### Use the  ▶️  button\n",
    "\n",
    "1. Click on the file name to open the file\n",
    "2. Look in the upper right for these icons: <img style=\"vertical-align:middle\" src=\"https://images.jointheleague.org/vscode/run_buttons.png\" height=\"25px\" > \n",
    "    click on the ▶️ run button to run the program.  \n",
    "3. Click on the window to close it. \n",
    "\n",
    "### Hit the F5 Key\n",
    "\n",
    "You can also run the program by hitting the F5 key. On a Mac, you will have to\n",
    "hold down the fn key and then hit F5. This is a bit different than using the run\n",
    "button, because F5 will open the debugger. \n",
    "\n",
    "The first time you hit F5, look at the top of the IDE window. You should see a\n",
    "selection window that reads \"Select Debugger\". Select the first option, \"Python\n",
    "Debugger\". Then, on the next window, select \"Python File. Debug currently active\n",
    "Python file\". After that, you will see the debug bar: \n",
    "\n",
    "<center><img src=\"https://images.jointheleague.org/vscode/debug_bar.png\" width=\"300px\"></center>\n",
    "\n",
    "We will learn all of the features for the debugger later, but for now you just\n",
    "need to know that you press the red square to exit your program, and the gree\n",
    "circle to re-run it. \n",
    "\n",
    "\n",
    "<div class=\"alert alert-warning\">\n",
    "\n",
    "You can't run a program again until you end the currently running program. If\n",
    "you see a turtle window open, then you should either click on the window to\n",
    "close it ( if the program ends with `turtle.exitonclick()` or click on the X in\n",
    "the upper right of the turtle window. )\n",
    "\n",
    "Or, if you are using the debugger, click the red square in the debugger bar. \n",
    "\n",
    "</div>"
   ]
  },
  {
   "cell_type": "markdown",
   "metadata": {},
   "source": [
    "Now, open the next file, ``02_Meet_Tina.py`` and run it."
   ]
  },
  {
   "cell_type": "markdown",
   "metadata": {},
   "source": []
  }
 ],
 "metadata": {
  "kernelspec": {
   "display_name": ".venv",
   "language": "python",
   "name": "python3"
  },
  "language_info": {
   "codemirror_mode": {
    "name": "ipython",
    "version": 3
   },
   "file_extension": ".py",
   "mimetype": "text/x-python",
   "name": "python",
   "nbconvert_exporter": "python",
   "pygments_lexer": "ipython3",
   "version": "3.12.0"
  }
 },
 "nbformat": 4,
 "nbformat_minor": 4
}
